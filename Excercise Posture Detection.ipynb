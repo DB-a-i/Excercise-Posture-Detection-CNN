{
  "nbformat": 4,
  "nbformat_minor": 0,
  "metadata": {
    "colab": {
      "provenance": [],
      "gpuType": "T4",
      "authorship_tag": "ABX9TyMxA+X03JWSkG/jB2UMBF/P",
      "include_colab_link": true
    },
    "kernelspec": {
      "name": "python3",
      "display_name": "Python 3"
    },
    "language_info": {
      "name": "python"
    },
    "accelerator": "GPU"
  },
  "cells": [
    {
      "cell_type": "markdown",
      "metadata": {
        "id": "view-in-github",
        "colab_type": "text"
      },
      "source": [
        "<a href=\"https://colab.research.google.com/github/DB-a-i/Excercise-Posture-Detection-CNN/blob/main/Excercise%20Posture%20Detection.ipynb\" target=\"_parent\"><img src=\"https://colab.research.google.com/assets/colab-badge.svg\" alt=\"Open In Colab\"/></a>"
      ]
    },
    {
      "cell_type": "code",
      "execution_count": null,
      "metadata": {
        "colab": {
          "base_uri": "https://localhost:8080/"
        },
        "id": "8U4R62_HAQQw",
        "outputId": "ad5d2afc-46c8-4af5-d018-7d2580f7c8da"
      },
      "outputs": [
        {
          "output_type": "stream",
          "name": "stdout",
          "text": [
            "Mounted at /content/drive\n"
          ]
        }
      ],
      "source": [
        "from google.colab import drive\n",
        "drive.mount('/content/drive')"
      ]
    },
    {
      "cell_type": "code",
      "source": [
        "!pip install opencv-python"
      ],
      "metadata": {
        "colab": {
          "base_uri": "https://localhost:8080/"
        },
        "id": "FQZG1vswAqF5",
        "outputId": "795c59d4-eab5-4556-fb35-5f0290f3f700"
      },
      "execution_count": null,
      "outputs": [
        {
          "output_type": "stream",
          "name": "stdout",
          "text": [
            "Requirement already satisfied: opencv-python in /usr/local/lib/python3.10/dist-packages (4.8.0.76)\n",
            "Requirement already satisfied: numpy>=1.21.2 in /usr/local/lib/python3.10/dist-packages (from opencv-python) (1.25.2)\n"
          ]
        }
      ]
    },
    {
      "cell_type": "code",
      "source": [
        "import cv2\n",
        "import os\n",
        "\n",
        "def extract_frames(video_path, output_folder, frame_rate=1):\n",
        "    # Create output folder if it doesn't exist\n",
        "    if not os.path.exists(output_folder):\n",
        "        os.makedirs(output_folder)\n",
        "\n",
        "    # Open the video file\n",
        "    video = cv2.VideoCapture(video_path)\n",
        "    success, image = video.read()\n",
        "    count = 0\n",
        "\n",
        "    while success:\n",
        "        # Save frame every `frame_rate` frames\n",
        "        if count % frame_rate == 0:\n",
        "            frame_name = os.path.join(output_folder, f\"frame_{count}.jpg\")\n",
        "            cv2.imwrite(frame_name, image)  # Save frame as image\n",
        "        success, image = video.read()\n",
        "        count += 1\n",
        "\n",
        "    video.release()\n",
        "\n",
        "# Example usage: extract frames from all videos in Bicep_Curl_Correct_Posture\n",
        "video_folder = '/content/drive/MyDrive/Excercise_data/Bicep_Curl_Correct_Posture'\n",
        "output_folder = '/content/drive/MyDrive/Excercise_data/Bicep_Curl_Correct_Posture_Frames'\n",
        "\n",
        "for video_name in os.listdir(video_folder):\n",
        "    video_path = os.path.join(video_folder, video_name)\n",
        "    extract_frames(video_path, output_folder)\n"
      ],
      "metadata": {
        "id": "j0PTOjXxAvaP"
      },
      "execution_count": null,
      "outputs": []
    },
    {
      "cell_type": "code",
      "source": [],
      "metadata": {
        "id": "r_-H1oM5NoQy"
      },
      "execution_count": null,
      "outputs": []
    },
    {
      "cell_type": "code",
      "source": [
        "import cv2\n",
        "import os\n",
        "\n",
        "def extract_frames(video_path, output_folder, frame_rate=1):\n",
        "    # Create output folder if it doesn't exist\n",
        "    if not os.path.exists(output_folder):\n",
        "        os.makedirs(output_folder)\n",
        "\n",
        "    # Open the video file\n",
        "    video = cv2.VideoCapture(video_path)\n",
        "    success, image = video.read()\n",
        "    count = 0\n",
        "\n",
        "    while success:\n",
        "        # Save frame every `frame_rate` frames\n",
        "        if count % frame_rate == 0:\n",
        "            frame_name = os.path.join(output_folder, f\"frame_{count}.jpg\")\n",
        "            cv2.imwrite(frame_name, image)  # Save frame as image\n",
        "        success, image = video.read()\n",
        "        count += 1\n",
        "\n",
        "    video.release()\n",
        "\n",
        "# Example usage: extract frames from all videos in Bicep_Curl_Correct_Posture\n",
        "video_folder = '/content/drive/MyDrive/Excercise_data/Bicep_Curl_Incorrect_Posture'\n",
        "output_folder = '/content/drive/MyDrive/Excercise_data/Bicep_Curl_Incorrect_Posture_Frames'\n",
        "\n",
        "for video_name in os.listdir(video_folder):\n",
        "    video_path = os.path.join(video_folder, video_name)\n",
        "    extract_frames(video_path, output_folder)\n"
      ],
      "metadata": {
        "id": "3tPda8ONA9xy"
      },
      "execution_count": null,
      "outputs": []
    },
    {
      "cell_type": "code",
      "source": [
        "import cv2\n",
        "import os\n",
        "\n",
        "def extract_frames(video_path, output_folder, frame_rate=1):\n",
        "    # Create output folder if it doesn't exist\n",
        "    if not os.path.exists(output_folder):\n",
        "        os.makedirs(output_folder)\n",
        "\n",
        "    # Open the video file\n",
        "    video = cv2.VideoCapture(video_path)\n",
        "    success, image = video.read()\n",
        "    count = 0\n",
        "\n",
        "    while success:\n",
        "        # Save frame every `frame_rate` frames\n",
        "        if count % frame_rate == 0:\n",
        "            frame_name = os.path.join(output_folder, f\"frame_{count}.jpg\")\n",
        "            cv2.imwrite(frame_name, image)  # Save frame as image\n",
        "        success, image = video.read()\n",
        "        count += 1\n",
        "\n",
        "    video.release()\n",
        "\n",
        "# Example usage: extract frames from all videos in Bicep_Curl_Correct_Posture\n",
        "video_folder = '/content/drive/MyDrive/Excercise_data/Front_Raise_Correct_Posture'\n",
        "output_folder = '/content/drive/MyDrive/Excercise_data/Front_Raise_Correct_Posture_Frames'\n",
        "\n",
        "for video_name in os.listdir(video_folder):\n",
        "    video_path = os.path.join(video_folder, video_name)\n",
        "    extract_frames(video_path, output_folder)\n"
      ],
      "metadata": {
        "id": "T38tNgtyFQ5u"
      },
      "execution_count": null,
      "outputs": []
    },
    {
      "cell_type": "code",
      "source": [
        "import cv2\n",
        "import os\n",
        "\n",
        "def extract_frames(video_path, output_folder, frame_rate=1):\n",
        "    # Create output folder if it doesn't exist\n",
        "    if not os.path.exists(output_folder):\n",
        "        os.makedirs(output_folder)\n",
        "\n",
        "    # Open the video file\n",
        "    video = cv2.VideoCapture(video_path)\n",
        "    success, image = video.read()\n",
        "    count = 0\n",
        "\n",
        "    while success:\n",
        "        # Save frame every `frame_rate` frames\n",
        "        if count % frame_rate == 0:\n",
        "            frame_name = os.path.join(output_folder, f\"frame_{count}.jpg\")\n",
        "            cv2.imwrite(frame_name, image)  # Save frame as image\n",
        "        success, image = video.read()\n",
        "        count += 1\n",
        "\n",
        "    video.release()\n",
        "\n",
        "# Example usage: extract frames from all videos in Bicep_Curl_Correct_Posture\n",
        "video_folder = '/content/drive/MyDrive/Excercise_data/Front_Raise_Incorrect_Posture'\n",
        "output_folder = '/content/drive/MyDrive/Excercise_data/Front_Raise_Incorrect_Posture_Frames'\n",
        "\n",
        "for video_name in os.listdir(video_folder):\n",
        "    video_path = os.path.join(video_folder, video_name)\n",
        "    extract_frames(video_path, output_folder)\n"
      ],
      "metadata": {
        "id": "8O2bBa6mGc8s"
      },
      "execution_count": null,
      "outputs": []
    },
    {
      "cell_type": "code",
      "source": [],
      "metadata": {
        "id": "-MaIS89wJBm7"
      },
      "execution_count": null,
      "outputs": []
    },
    {
      "cell_type": "code",
      "source": [
        "import cv2\n",
        "import os\n",
        "\n",
        "def extract_frames(video_path, output_folder, frame_rate=1):\n",
        "    # Create output folder if it doesn't exist\n",
        "    if not os.path.exists(output_folder):\n",
        "        os.makedirs(output_folder)\n",
        "\n",
        "    # Open the video file\n",
        "    video = cv2.VideoCapture(video_path)\n",
        "    success, image = video.read()\n",
        "    count = 0\n",
        "\n",
        "    while success:\n",
        "        # Save frame every `frame_rate` frames\n",
        "        if count % frame_rate == 0:\n",
        "            frame_name = os.path.join(output_folder, f\"frame_{count}.jpg\")\n",
        "            cv2.imwrite(frame_name, image)  # Save frame as image\n",
        "        success, image = video.read()\n",
        "        count += 1\n",
        "\n",
        "    video.release()\n",
        "\n",
        "# Example usage: extract frames from all videos in Bicep_Curl_Correct_Posture\n",
        "video_folder = '/content/drive/MyDrive/Excercise_data/Shoulder_Press_Correct_Posture'\n",
        "output_folder = '/content/drive/MyDrive/Excercise_data/Shoulder_Press_Correct_Posture_Frames'\n",
        "\n",
        "for video_name in os.listdir(video_folder):\n",
        "    video_path = os.path.join(video_folder, video_name)\n",
        "    extract_frames(video_path, output_folder)\n"
      ],
      "metadata": {
        "id": "gr_AbonfJCQ4"
      },
      "execution_count": null,
      "outputs": []
    },
    {
      "cell_type": "code",
      "source": [
        "import cv2\n",
        "import os\n",
        "\n",
        "def extract_frames(video_path, output_folder, frame_rate=1):\n",
        "    # Create output folder if it doesn't exist\n",
        "    if not os.path.exists(output_folder):\n",
        "        os.makedirs(output_folder)\n",
        "\n",
        "    # Open the video file\n",
        "    video = cv2.VideoCapture(video_path)\n",
        "    success, image = video.read()\n",
        "    count = 0\n",
        "\n",
        "    while success:\n",
        "        # Save frame every `frame_rate` frames\n",
        "        if count % frame_rate == 0:\n",
        "            frame_name = os.path.join(output_folder, f\"frame_{count}.jpg\")\n",
        "            cv2.imwrite(frame_name, image)  # Save frame as image\n",
        "        success, image = video.read()\n",
        "        count += 1\n",
        "\n",
        "    video.release()\n",
        "\n",
        "# Example usage: extract frames from all videos in Bicep_Curl_Correct_Posture\n",
        "video_folder = '/content/drive/MyDrive/Excercise_data/Shoulder_Press_Incorrect_Posture'\n",
        "output_folder = '/content/drive/MyDrive/Excercise_data/Shoulder_Press_Incorrect_Posture_Frames'\n",
        "\n",
        "for video_name in os.listdir(video_folder):\n",
        "    video_path = os.path.join(video_folder, video_name)\n",
        "    extract_frames(video_path, output_folder)\n"
      ],
      "metadata": {
        "id": "r5jqtD2AKDYl"
      },
      "execution_count": null,
      "outputs": []
    },
    {
      "cell_type": "code",
      "source": [
        "import tensorflow as tf\n",
        "from tensorflow.keras import layers, models\n",
        "from tensorflow.keras.preprocessing.image import ImageDataGenerator"
      ],
      "metadata": {
        "id": "NFqcE4h2MFVC"
      },
      "execution_count": 9,
      "outputs": []
    },
    {
      "cell_type": "code",
      "source": [
        "train_dir = '/content/drive/MyDrive/Excercise_data'"
      ],
      "metadata": {
        "id": "7YIGo_IbMLrB"
      },
      "execution_count": 10,
      "outputs": []
    },
    {
      "cell_type": "code",
      "source": [
        "def load_data(train_dir, input_size=(150, 150)):\n",
        "    datagen = ImageDataGenerator(\n",
        "        rescale=1./255,  # Normalize pixel values\n",
        "        validation_split=0.2  # 20% of data for validation\n",
        "    )\n",
        "\n",
        "    train_generator = datagen.flow_from_directory(\n",
        "        train_dir,\n",
        "        target_size=input_size,\n",
        "        batch_size=32,\n",
        "        class_mode='categorical',\n",
        "        subset='training'\n",
        "    )\n",
        "\n",
        "    validation_generator = datagen.flow_from_directory(\n",
        "        train_dir,\n",
        "        target_size=input_size,\n",
        "        batch_size=32,\n",
        "        class_mode='categorical',\n",
        "        subset='validation'\n",
        "    )\n",
        "\n",
        "    return train_generator, validation_generator\n",
        "\n",
        "input_size = (150, 150)\n",
        "train_data, val_data = load_data(train_dir, input_size)\n"
      ],
      "metadata": {
        "colab": {
          "base_uri": "https://localhost:8080/"
        },
        "id": "a7gDA1RVMlGX",
        "outputId": "63c2dcd6-fae2-4c96-d0bb-986e9ff0122d"
      },
      "execution_count": 11,
      "outputs": [
        {
          "output_type": "stream",
          "name": "stdout",
          "text": [
            "Found 6389 images belonging to 6 classes.\n",
            "Found 1594 images belonging to 6 classes.\n"
          ]
        }
      ]
    },
    {
      "cell_type": "code",
      "source": [
        "def create_cnn_model(input_shape):\n",
        "    model = tf.keras.models.Sequential([\n",
        "        tf.keras.layers.Conv2D(32, (3, 3), activation='relu', input_shape=input_shape),\n",
        "        tf.keras.layers.MaxPooling2D(2, 2),\n",
        "\n",
        "        tf.keras.layers.Conv2D(64, (3, 3), activation='relu'),\n",
        "        tf.keras.layers.MaxPooling2D(2, 2),\n",
        "\n",
        "        tf.keras.layers.Conv2D(128, (3, 3), activation='relu'),\n",
        "        tf.keras.layers.MaxPooling2D(2, 2),\n",
        "\n",
        "        tf.keras.layers.Flatten(),\n",
        "        tf.keras.layers.Dense(512, activation='relu'),\n",
        "        tf.keras.layers.Dense(6, activation='softmax')  #6DataFolders\n",
        "    ])\n",
        "\n",
        "    model.compile(optimizer='adam',\n",
        "                  loss='categorical_crossentropy',\n",
        "                  metrics=['accuracy'])\n",
        "\n",
        "    return model\n",
        "\n"
      ],
      "metadata": {
        "id": "S7KPAKBiNrs7"
      },
      "execution_count": 12,
      "outputs": []
    },
    {
      "cell_type": "code",
      "source": [
        "input_shape = (150, 150, 3)\n",
        "model = create_cnn_model(input_shape)\n",
        "model.save('/content/drive/MyDrive/Excercise_data/posture_model.h5')"
      ],
      "metadata": {
        "id": "Yp8pLGa2PvRG",
        "colab": {
          "base_uri": "https://localhost:8080/"
        },
        "outputId": "2ec79251-b83f-4245-beb4-c37dfe29941b"
      },
      "execution_count": 13,
      "outputs": [
        {
          "output_type": "stream",
          "name": "stderr",
          "text": [
            "/usr/local/lib/python3.10/dist-packages/keras/src/layers/convolutional/base_conv.py:107: UserWarning: Do not pass an `input_shape`/`input_dim` argument to a layer. When using Sequential models, prefer using an `Input(shape)` object as the first layer in the model instead.\n",
            "  super().__init__(activity_regularizer=activity_regularizer, **kwargs)\n",
            "WARNING:absl:You are saving your model as an HDF5 file via `model.save()` or `keras.saving.save_model(model)`. This file format is considered legacy. We recommend using instead the native Keras format, e.g. `model.save('my_model.keras')` or `keras.saving.save_model(model, 'my_model.keras')`. \n"
          ]
        }
      ]
    },
    {
      "cell_type": "code",
      "source": [
        "history = model.fit(\n",
        "    train_data,\n",
        "    epochs=10,\n",
        "    validation_data=val_data\n",
        ")"
      ],
      "metadata": {
        "colab": {
          "base_uri": "https://localhost:8080/"
        },
        "id": "9IUnoa2FRMKJ",
        "outputId": "86d9a679-abcc-470a-e72c-10b2912b1ba4"
      },
      "execution_count": null,
      "outputs": [
        {
          "output_type": "stream",
          "name": "stdout",
          "text": [
            "Epoch 1/10\n",
            "200/200 [==============================] - 84s 402ms/step - loss: 0.1118 - accuracy: 0.9663 - val_loss: 0.8144 - val_accuracy: 0.9285\n",
            "Epoch 2/10\n",
            "200/200 [==============================] - 76s 382ms/step - loss: 5.0991e-05 - accuracy: 1.0000 - val_loss: 0.9681 - val_accuracy: 0.9285\n",
            "Epoch 3/10\n",
            "200/200 [==============================] - 74s 372ms/step - loss: 1.9633e-05 - accuracy: 1.0000 - val_loss: 1.0275 - val_accuracy: 0.9285\n",
            "Epoch 4/10\n",
            "200/200 [==============================] - 79s 394ms/step - loss: 1.0287e-05 - accuracy: 1.0000 - val_loss: 1.0645 - val_accuracy: 0.9285\n",
            "Epoch 5/10\n",
            "200/200 [==============================] - 80s 402ms/step - loss: 6.4423e-06 - accuracy: 1.0000 - val_loss: 1.1271 - val_accuracy: 0.9285\n",
            "Epoch 6/10\n",
            "200/200 [==============================] - 74s 372ms/step - loss: 4.4464e-06 - accuracy: 1.0000 - val_loss: 1.1831 - val_accuracy: 0.9285\n",
            "Epoch 7/10\n",
            "200/200 [==============================] - 80s 401ms/step - loss: 3.2219e-06 - accuracy: 1.0000 - val_loss: 1.1969 - val_accuracy: 0.9285\n",
            "Epoch 8/10\n",
            "200/200 [==============================] - 81s 405ms/step - loss: 2.4642e-06 - accuracy: 1.0000 - val_loss: 1.2412 - val_accuracy: 0.9285\n",
            "Epoch 9/10\n",
            "200/200 [==============================] - 74s 368ms/step - loss: 1.9179e-06 - accuracy: 1.0000 - val_loss: 1.2616 - val_accuracy: 0.9285\n",
            "Epoch 10/10\n",
            "200/200 [==============================] - 77s 383ms/step - loss: 1.5097e-06 - accuracy: 1.0000 - val_loss: 1.2886 - val_accuracy: 0.9285\n"
          ]
        }
      ]
    },
    {
      "cell_type": "code",
      "source": [
        "from google.colab import drive\n",
        "drive.mount('/content/drive')"
      ],
      "metadata": {
        "colab": {
          "base_uri": "https://localhost:8080/"
        },
        "id": "NZZMLvvzETsk",
        "outputId": "f72665ce-e990-49fd-ce56-a94b0f62fab6"
      },
      "execution_count": 1,
      "outputs": [
        {
          "output_type": "stream",
          "name": "stdout",
          "text": [
            "Mounted at /content/drive\n"
          ]
        }
      ]
    },
    {
      "cell_type": "code",
      "source": [
        "from tensorflow.keras.preprocessing import image\n",
        "import numpy as np\n",
        "import os\n",
        "\n",
        "def preprocess_image(img_path, target_size):\n",
        "    # Check if file exists before loading\n",
        "    if not os.path.exists(img_path):\n",
        "        print(f\"File not found at path: {img_path}\")\n",
        "        return None\n",
        "\n",
        "    img = image.load_img(img_path, target_size=target_size)\n",
        "    img_array = image.img_to_array(img)\n",
        "    img_array = np.expand_dims(img_array, axis=0)\n",
        "    img_array /= 255.0  # Normalize the image\n",
        "    return img_array\n",
        "\n",
        "# Set the path to the image you want to test\n",
        "img_path = '/content/drive/MyDrive/Excercise_data/Bicep_Curl_Incorrect_Posture_Frames/frame_1.jpg'\n",
        "\n",
        "# Preprocess the image\n",
        "img = preprocess_image(img_path, (150, 150))\n",
        "\n",
        "if img is not None:\n",
        "    # Predict the class if the image was loaded successfully\n",
        "    prediction = model.predict(img)\n",
        "    predicted_class = np.argmax(prediction, axis=1)  # Gets the class with the highest probability\n",
        "    print(\"Predicted class:\", predicted_class)\n",
        "else:\n",
        "    print(\"Please check the file path and try again.\")\n"
      ],
      "metadata": {
        "colab": {
          "base_uri": "https://localhost:8080/"
        },
        "id": "7K8R1iDeVnuF",
        "outputId": "8e82579b-5290-4381-9e87-b0e2935db0e0"
      },
      "execution_count": 14,
      "outputs": [
        {
          "output_type": "stream",
          "name": "stdout",
          "text": [
            "\u001b[1m1/1\u001b[0m \u001b[32m━━━━━━━━━━━━━━━━━━━━\u001b[0m\u001b[37m\u001b[0m \u001b[1m3s\u001b[0m 3s/step\n",
            "Predicted class: [5]\n"
          ]
        }
      ]
    },
    {
      "cell_type": "code",
      "source": [
        "class_names = ['Bicep Curl Correct', 'Bicep Curl Incorrect',\n",
        "               'Front Raise Correct', 'Front Raise Incorrect',\n",
        "               'Shoulder Press Correct', 'Shoulder Press Incorrect']\n",
        "\n",
        "predicted_class = np.argmax(prediction, axis=1)\n",
        "print(\"Predicted class:\", class_names[predicted_class[0]])\n"
      ],
      "metadata": {
        "colab": {
          "base_uri": "https://localhost:8080/"
        },
        "id": "CvNV4UxPWNan",
        "outputId": "764fa34b-03f7-4f32-8c36-4a5f088e3d90"
      },
      "execution_count": 15,
      "outputs": [
        {
          "output_type": "stream",
          "name": "stdout",
          "text": [
            "Predicted class: Shoulder Press Incorrect\n"
          ]
        }
      ]
    }
  ]
}